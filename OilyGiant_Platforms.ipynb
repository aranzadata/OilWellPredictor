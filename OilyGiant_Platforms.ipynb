{
 "cells": [
  {
   "cell_type": "markdown",
   "metadata": {},
   "source": [
    "# Análisis de riesgos/beneficios de posibles locaciones para el desarrollo de nuevos pozos petroleros\n",
    "\n",
    "El objetivo de este trabajo es ayudar a determinar la región geográfica más óptima para el desarrollo de 200 nuevos pozos petroleros de la compañía Oily Giant, a través del cálculo de ganancias potenciales y el riesgo de pérdidas económicas.\n",
    "\n",
    "Para lograr este objetivo se crea un modelo de aprendizaje supervisado que predice el volumen de reservas de crudo a partir de parámetros indicadores de calidad. Posteriormente se calcula la raíz del error cuadrático medio para evaluar la calidad de este modelo implementado en las tres regiones de estudio. \n",
    "\n",
    "Después se diseña una función para calcular las ganancias proyectadas para los 200 pozos con mayores reservas estimadas en cada una de las tres regiones. Posteriormente se utiliza el método de bootstrap para 1000 submuestras de 500 pozos para calcular la ganancia promedio total y su intervalo de confianza de 95% para cada región. Además se calcula el riesgo de pérdidas expresado como probabilidad.\n",
    "\n",
    "Finalmente se encuentra la región con mayor potencial de ganancias y menos riesgo de pérdidas.\n",
    "\n",
    "Para este análisis se consideran los siguientes puntos:\n",
    "\n",
    "· Al explorar la región, se lleva a cabo un estudio de 500 puntos con la selección de los mejores 200 puntos para el cálculo del beneficio.\n",
    "\n",
    "· El presupuesto es de 100 millones de dólares.\n",
    "\n",
    "· Un barril de materias primas genera 4.5 USD de ingresos. \n",
    "\n",
    "· Se mantienen solo las regiones con riesgo de pérdidas inferior al 2.5%. De las que se ajustan a los criterios, se selecciona la región con el beneficio promedio más alto."
   ]
  },
  {
   "cell_type": "markdown",
   "metadata": {},
   "source": [
    "## Importación de paquetes y librerías\n",
    "\n",
    "Se emplean principalmente herramientas de las librerías pandas y sklearn. Adicionalmente se emplea matplotlib para la realización de gráficos."
   ]
  },
  {
   "cell_type": "code",
   "execution_count": 1,
   "metadata": {},
   "outputs": [],
   "source": [
    "import pandas as pd\n",
    "import numpy as np\n",
    "import matplotlib.pyplot as plt\n",
    "from sklearn.model_selection import train_test_split\n",
    "from sklearn.linear_model import LinearRegression\n",
    "from sklearn.metrics import mean_squared_error"
   ]
  },
  {
   "cell_type": "markdown",
   "metadata": {},
   "source": [
    "## Inspección inicial de datos\n",
    "\n",
    "A continuación se importan las tres bases de datos correspondientes a las tres regiones geográficas exploradas."
   ]
  },
  {
   "cell_type": "code",
   "execution_count": 2,
   "metadata": {},
   "outputs": [],
   "source": [
    "region_0 = pd.read_csv('/datasets/geo_data_0.csv')\n",
    "region_1 = pd.read_csv('/datasets/geo_data_1.csv')\n",
    "region_2 = pd.read_csv('/datasets/geo_data_2.csv')"
   ]
  },
  {
   "cell_type": "markdown",
   "metadata": {},
   "source": [
    "Se muestra la información de cada una."
   ]
  },
  {
   "cell_type": "code",
   "execution_count": 3,
   "metadata": {},
   "outputs": [
    {
     "name": "stdout",
     "output_type": "stream",
     "text": [
      "<class 'pandas.core.frame.DataFrame'>\n",
      "RangeIndex: 100000 entries, 0 to 99999\n",
      "Data columns (total 5 columns):\n",
      " #   Column   Non-Null Count   Dtype  \n",
      "---  ------   --------------   -----  \n",
      " 0   id       100000 non-null  object \n",
      " 1   f0       100000 non-null  float64\n",
      " 2   f1       100000 non-null  float64\n",
      " 3   f2       100000 non-null  float64\n",
      " 4   product  100000 non-null  float64\n",
      "dtypes: float64(4), object(1)\n",
      "memory usage: 3.8+ MB\n",
      "None\n",
      "\n",
      "<class 'pandas.core.frame.DataFrame'>\n",
      "RangeIndex: 100000 entries, 0 to 99999\n",
      "Data columns (total 5 columns):\n",
      " #   Column   Non-Null Count   Dtype  \n",
      "---  ------   --------------   -----  \n",
      " 0   id       100000 non-null  object \n",
      " 1   f0       100000 non-null  float64\n",
      " 2   f1       100000 non-null  float64\n",
      " 3   f2       100000 non-null  float64\n",
      " 4   product  100000 non-null  float64\n",
      "dtypes: float64(4), object(1)\n",
      "memory usage: 3.8+ MB\n",
      "None\n",
      "\n",
      "<class 'pandas.core.frame.DataFrame'>\n",
      "RangeIndex: 100000 entries, 0 to 99999\n",
      "Data columns (total 5 columns):\n",
      " #   Column   Non-Null Count   Dtype  \n",
      "---  ------   --------------   -----  \n",
      " 0   id       100000 non-null  object \n",
      " 1   f0       100000 non-null  float64\n",
      " 2   f1       100000 non-null  float64\n",
      " 3   f2       100000 non-null  float64\n",
      " 4   product  100000 non-null  float64\n",
      "dtypes: float64(4), object(1)\n",
      "memory usage: 3.8+ MB\n",
      "None\n",
      "\n"
     ]
    }
   ],
   "source": [
    "datasets = [region_0, region_1, region_2]\n",
    "\n",
    "for dataset in datasets:\n",
    "    print(dataset.info())\n",
    "    print()"
   ]
  },
  {
   "cell_type": "markdown",
   "metadata": {},
   "source": [
    "Cada dataset contiene 100,000 entradas, con cinco columnas correspondientes a:\n",
    "\n",
    " · *id* identificador del pozo petrolero\n",
    " \n",
    " · *f0, f1, f2* indicadores de calidad del crudo\n",
    " \n",
    " · *product* volumen de la reserva en miles de barriles\n",
    "\n",
    "No se encuentran valores ausentes en ninguna de las bases de datos, los tipos de datos son apropiados para cada columna.\n",
    "\n",
    "Se prosige a mostrar el encabezado de cada base de datos."
   ]
  },
  {
   "cell_type": "code",
   "execution_count": 4,
   "metadata": {},
   "outputs": [
    {
     "name": "stdout",
     "output_type": "stream",
     "text": [
      "Region 0\n"
     ]
    },
    {
     "data": {
      "text/html": [
       "<div>\n",
       "<style scoped>\n",
       "    .dataframe tbody tr th:only-of-type {\n",
       "        vertical-align: middle;\n",
       "    }\n",
       "\n",
       "    .dataframe tbody tr th {\n",
       "        vertical-align: top;\n",
       "    }\n",
       "\n",
       "    .dataframe thead th {\n",
       "        text-align: right;\n",
       "    }\n",
       "</style>\n",
       "<table border=\"1\" class=\"dataframe\">\n",
       "  <thead>\n",
       "    <tr style=\"text-align: right;\">\n",
       "      <th></th>\n",
       "      <th>id</th>\n",
       "      <th>f0</th>\n",
       "      <th>f1</th>\n",
       "      <th>f2</th>\n",
       "      <th>product</th>\n",
       "    </tr>\n",
       "  </thead>\n",
       "  <tbody>\n",
       "    <tr>\n",
       "      <th>0</th>\n",
       "      <td>txEyH</td>\n",
       "      <td>0.705745</td>\n",
       "      <td>-0.497823</td>\n",
       "      <td>1.221170</td>\n",
       "      <td>105.280062</td>\n",
       "    </tr>\n",
       "    <tr>\n",
       "      <th>1</th>\n",
       "      <td>2acmU</td>\n",
       "      <td>1.334711</td>\n",
       "      <td>-0.340164</td>\n",
       "      <td>4.365080</td>\n",
       "      <td>73.037750</td>\n",
       "    </tr>\n",
       "    <tr>\n",
       "      <th>2</th>\n",
       "      <td>409Wp</td>\n",
       "      <td>1.022732</td>\n",
       "      <td>0.151990</td>\n",
       "      <td>1.419926</td>\n",
       "      <td>85.265647</td>\n",
       "    </tr>\n",
       "    <tr>\n",
       "      <th>3</th>\n",
       "      <td>iJLyR</td>\n",
       "      <td>-0.032172</td>\n",
       "      <td>0.139033</td>\n",
       "      <td>2.978566</td>\n",
       "      <td>168.620776</td>\n",
       "    </tr>\n",
       "    <tr>\n",
       "      <th>4</th>\n",
       "      <td>Xdl7t</td>\n",
       "      <td>1.988431</td>\n",
       "      <td>0.155413</td>\n",
       "      <td>4.751769</td>\n",
       "      <td>154.036647</td>\n",
       "    </tr>\n",
       "  </tbody>\n",
       "</table>\n",
       "</div>"
      ],
      "text/plain": [
       "      id        f0        f1        f2     product\n",
       "0  txEyH  0.705745 -0.497823  1.221170  105.280062\n",
       "1  2acmU  1.334711 -0.340164  4.365080   73.037750\n",
       "2  409Wp  1.022732  0.151990  1.419926   85.265647\n",
       "3  iJLyR -0.032172  0.139033  2.978566  168.620776\n",
       "4  Xdl7t  1.988431  0.155413  4.751769  154.036647"
      ]
     },
     "metadata": {},
     "output_type": "display_data"
    },
    {
     "name": "stdout",
     "output_type": "stream",
     "text": [
      "\n",
      "Region 1\n"
     ]
    },
    {
     "data": {
      "text/html": [
       "<div>\n",
       "<style scoped>\n",
       "    .dataframe tbody tr th:only-of-type {\n",
       "        vertical-align: middle;\n",
       "    }\n",
       "\n",
       "    .dataframe tbody tr th {\n",
       "        vertical-align: top;\n",
       "    }\n",
       "\n",
       "    .dataframe thead th {\n",
       "        text-align: right;\n",
       "    }\n",
       "</style>\n",
       "<table border=\"1\" class=\"dataframe\">\n",
       "  <thead>\n",
       "    <tr style=\"text-align: right;\">\n",
       "      <th></th>\n",
       "      <th>id</th>\n",
       "      <th>f0</th>\n",
       "      <th>f1</th>\n",
       "      <th>f2</th>\n",
       "      <th>product</th>\n",
       "    </tr>\n",
       "  </thead>\n",
       "  <tbody>\n",
       "    <tr>\n",
       "      <th>0</th>\n",
       "      <td>kBEdx</td>\n",
       "      <td>-15.001348</td>\n",
       "      <td>-8.276000</td>\n",
       "      <td>-0.005876</td>\n",
       "      <td>3.179103</td>\n",
       "    </tr>\n",
       "    <tr>\n",
       "      <th>1</th>\n",
       "      <td>62mP7</td>\n",
       "      <td>14.272088</td>\n",
       "      <td>-3.475083</td>\n",
       "      <td>0.999183</td>\n",
       "      <td>26.953261</td>\n",
       "    </tr>\n",
       "    <tr>\n",
       "      <th>2</th>\n",
       "      <td>vyE1P</td>\n",
       "      <td>6.263187</td>\n",
       "      <td>-5.948386</td>\n",
       "      <td>5.001160</td>\n",
       "      <td>134.766305</td>\n",
       "    </tr>\n",
       "    <tr>\n",
       "      <th>3</th>\n",
       "      <td>KcrkZ</td>\n",
       "      <td>-13.081196</td>\n",
       "      <td>-11.506057</td>\n",
       "      <td>4.999415</td>\n",
       "      <td>137.945408</td>\n",
       "    </tr>\n",
       "    <tr>\n",
       "      <th>4</th>\n",
       "      <td>AHL4O</td>\n",
       "      <td>12.702195</td>\n",
       "      <td>-8.147433</td>\n",
       "      <td>5.004363</td>\n",
       "      <td>134.766305</td>\n",
       "    </tr>\n",
       "  </tbody>\n",
       "</table>\n",
       "</div>"
      ],
      "text/plain": [
       "      id         f0         f1        f2     product\n",
       "0  kBEdx -15.001348  -8.276000 -0.005876    3.179103\n",
       "1  62mP7  14.272088  -3.475083  0.999183   26.953261\n",
       "2  vyE1P   6.263187  -5.948386  5.001160  134.766305\n",
       "3  KcrkZ -13.081196 -11.506057  4.999415  137.945408\n",
       "4  AHL4O  12.702195  -8.147433  5.004363  134.766305"
      ]
     },
     "metadata": {},
     "output_type": "display_data"
    },
    {
     "name": "stdout",
     "output_type": "stream",
     "text": [
      "\n",
      "Region 2\n"
     ]
    },
    {
     "data": {
      "text/html": [
       "<div>\n",
       "<style scoped>\n",
       "    .dataframe tbody tr th:only-of-type {\n",
       "        vertical-align: middle;\n",
       "    }\n",
       "\n",
       "    .dataframe tbody tr th {\n",
       "        vertical-align: top;\n",
       "    }\n",
       "\n",
       "    .dataframe thead th {\n",
       "        text-align: right;\n",
       "    }\n",
       "</style>\n",
       "<table border=\"1\" class=\"dataframe\">\n",
       "  <thead>\n",
       "    <tr style=\"text-align: right;\">\n",
       "      <th></th>\n",
       "      <th>id</th>\n",
       "      <th>f0</th>\n",
       "      <th>f1</th>\n",
       "      <th>f2</th>\n",
       "      <th>product</th>\n",
       "    </tr>\n",
       "  </thead>\n",
       "  <tbody>\n",
       "    <tr>\n",
       "      <th>0</th>\n",
       "      <td>fwXo0</td>\n",
       "      <td>-1.146987</td>\n",
       "      <td>0.963328</td>\n",
       "      <td>-0.828965</td>\n",
       "      <td>27.758673</td>\n",
       "    </tr>\n",
       "    <tr>\n",
       "      <th>1</th>\n",
       "      <td>WJtFt</td>\n",
       "      <td>0.262778</td>\n",
       "      <td>0.269839</td>\n",
       "      <td>-2.530187</td>\n",
       "      <td>56.069697</td>\n",
       "    </tr>\n",
       "    <tr>\n",
       "      <th>2</th>\n",
       "      <td>ovLUW</td>\n",
       "      <td>0.194587</td>\n",
       "      <td>0.289035</td>\n",
       "      <td>-5.586433</td>\n",
       "      <td>62.871910</td>\n",
       "    </tr>\n",
       "    <tr>\n",
       "      <th>3</th>\n",
       "      <td>q6cA6</td>\n",
       "      <td>2.236060</td>\n",
       "      <td>-0.553760</td>\n",
       "      <td>0.930038</td>\n",
       "      <td>114.572842</td>\n",
       "    </tr>\n",
       "    <tr>\n",
       "      <th>4</th>\n",
       "      <td>WPMUX</td>\n",
       "      <td>-0.515993</td>\n",
       "      <td>1.716266</td>\n",
       "      <td>5.899011</td>\n",
       "      <td>149.600746</td>\n",
       "    </tr>\n",
       "  </tbody>\n",
       "</table>\n",
       "</div>"
      ],
      "text/plain": [
       "      id        f0        f1        f2     product\n",
       "0  fwXo0 -1.146987  0.963328 -0.828965   27.758673\n",
       "1  WJtFt  0.262778  0.269839 -2.530187   56.069697\n",
       "2  ovLUW  0.194587  0.289035 -5.586433   62.871910\n",
       "3  q6cA6  2.236060 -0.553760  0.930038  114.572842\n",
       "4  WPMUX -0.515993  1.716266  5.899011  149.600746"
      ]
     },
     "metadata": {},
     "output_type": "display_data"
    },
    {
     "name": "stdout",
     "output_type": "stream",
     "text": [
      "\n"
     ]
    }
   ],
   "source": [
    "for count, dataset in enumerate(datasets):\n",
    "    print(f'Region {count}')\n",
    "    display(dataset.head())\n",
    "    print()"
   ]
  },
  {
   "cell_type": "markdown",
   "metadata": {},
   "source": [
    "No se encuentran incongruencias aparentes en las bases de datos. \n",
    "Se procede a detactar datos duplicados:"
   ]
  },
  {
   "cell_type": "code",
   "execution_count": 5,
   "metadata": {},
   "outputs": [
    {
     "name": "stdout",
     "output_type": "stream",
     "text": [
      "Región 0 tiene 0 filas duplicadas\n",
      "Región 1 tiene 0 filas duplicadas\n",
      "Región 2 tiene 0 filas duplicadas\n"
     ]
    }
   ],
   "source": [
    "for count, dataset in enumerate(datasets):\n",
    "    print(f'Región {count} tiene {dataset.duplicated().sum()} filas duplicadas')"
   ]
  },
  {
   "cell_type": "markdown",
   "metadata": {},
   "source": [
    "Ninguna base de datos presenta filas completamente duplicadas. Se procede a mostrar la descripción de cada base de datos."
   ]
  },
  {
   "cell_type": "code",
   "execution_count": 6,
   "metadata": {},
   "outputs": [
    {
     "name": "stdout",
     "output_type": "stream",
     "text": [
      "Región 0\n"
     ]
    },
    {
     "data": {
      "text/html": [
       "<div>\n",
       "<style scoped>\n",
       "    .dataframe tbody tr th:only-of-type {\n",
       "        vertical-align: middle;\n",
       "    }\n",
       "\n",
       "    .dataframe tbody tr th {\n",
       "        vertical-align: top;\n",
       "    }\n",
       "\n",
       "    .dataframe thead th {\n",
       "        text-align: right;\n",
       "    }\n",
       "</style>\n",
       "<table border=\"1\" class=\"dataframe\">\n",
       "  <thead>\n",
       "    <tr style=\"text-align: right;\">\n",
       "      <th></th>\n",
       "      <th>f0</th>\n",
       "      <th>f1</th>\n",
       "      <th>f2</th>\n",
       "      <th>product</th>\n",
       "    </tr>\n",
       "  </thead>\n",
       "  <tbody>\n",
       "    <tr>\n",
       "      <th>count</th>\n",
       "      <td>100000.000000</td>\n",
       "      <td>100000.000000</td>\n",
       "      <td>100000.000000</td>\n",
       "      <td>100000.000000</td>\n",
       "    </tr>\n",
       "    <tr>\n",
       "      <th>mean</th>\n",
       "      <td>0.500419</td>\n",
       "      <td>0.250143</td>\n",
       "      <td>2.502647</td>\n",
       "      <td>92.500000</td>\n",
       "    </tr>\n",
       "    <tr>\n",
       "      <th>std</th>\n",
       "      <td>0.871832</td>\n",
       "      <td>0.504433</td>\n",
       "      <td>3.248248</td>\n",
       "      <td>44.288691</td>\n",
       "    </tr>\n",
       "    <tr>\n",
       "      <th>min</th>\n",
       "      <td>-1.408605</td>\n",
       "      <td>-0.848218</td>\n",
       "      <td>-12.088328</td>\n",
       "      <td>0.000000</td>\n",
       "    </tr>\n",
       "    <tr>\n",
       "      <th>25%</th>\n",
       "      <td>-0.072580</td>\n",
       "      <td>-0.200881</td>\n",
       "      <td>0.287748</td>\n",
       "      <td>56.497507</td>\n",
       "    </tr>\n",
       "    <tr>\n",
       "      <th>50%</th>\n",
       "      <td>0.502360</td>\n",
       "      <td>0.250252</td>\n",
       "      <td>2.515969</td>\n",
       "      <td>91.849972</td>\n",
       "    </tr>\n",
       "    <tr>\n",
       "      <th>75%</th>\n",
       "      <td>1.073581</td>\n",
       "      <td>0.700646</td>\n",
       "      <td>4.715088</td>\n",
       "      <td>128.564089</td>\n",
       "    </tr>\n",
       "    <tr>\n",
       "      <th>max</th>\n",
       "      <td>2.362331</td>\n",
       "      <td>1.343769</td>\n",
       "      <td>16.003790</td>\n",
       "      <td>185.364347</td>\n",
       "    </tr>\n",
       "  </tbody>\n",
       "</table>\n",
       "</div>"
      ],
      "text/plain": [
       "                  f0             f1             f2        product\n",
       "count  100000.000000  100000.000000  100000.000000  100000.000000\n",
       "mean        0.500419       0.250143       2.502647      92.500000\n",
       "std         0.871832       0.504433       3.248248      44.288691\n",
       "min        -1.408605      -0.848218     -12.088328       0.000000\n",
       "25%        -0.072580      -0.200881       0.287748      56.497507\n",
       "50%         0.502360       0.250252       2.515969      91.849972\n",
       "75%         1.073581       0.700646       4.715088     128.564089\n",
       "max         2.362331       1.343769      16.003790     185.364347"
      ]
     },
     "metadata": {},
     "output_type": "display_data"
    },
    {
     "name": "stdout",
     "output_type": "stream",
     "text": [
      "\n",
      "Región 1\n"
     ]
    },
    {
     "data": {
      "text/html": [
       "<div>\n",
       "<style scoped>\n",
       "    .dataframe tbody tr th:only-of-type {\n",
       "        vertical-align: middle;\n",
       "    }\n",
       "\n",
       "    .dataframe tbody tr th {\n",
       "        vertical-align: top;\n",
       "    }\n",
       "\n",
       "    .dataframe thead th {\n",
       "        text-align: right;\n",
       "    }\n",
       "</style>\n",
       "<table border=\"1\" class=\"dataframe\">\n",
       "  <thead>\n",
       "    <tr style=\"text-align: right;\">\n",
       "      <th></th>\n",
       "      <th>f0</th>\n",
       "      <th>f1</th>\n",
       "      <th>f2</th>\n",
       "      <th>product</th>\n",
       "    </tr>\n",
       "  </thead>\n",
       "  <tbody>\n",
       "    <tr>\n",
       "      <th>count</th>\n",
       "      <td>100000.000000</td>\n",
       "      <td>100000.000000</td>\n",
       "      <td>100000.000000</td>\n",
       "      <td>100000.000000</td>\n",
       "    </tr>\n",
       "    <tr>\n",
       "      <th>mean</th>\n",
       "      <td>1.141296</td>\n",
       "      <td>-4.796579</td>\n",
       "      <td>2.494541</td>\n",
       "      <td>68.825000</td>\n",
       "    </tr>\n",
       "    <tr>\n",
       "      <th>std</th>\n",
       "      <td>8.965932</td>\n",
       "      <td>5.119872</td>\n",
       "      <td>1.703572</td>\n",
       "      <td>45.944423</td>\n",
       "    </tr>\n",
       "    <tr>\n",
       "      <th>min</th>\n",
       "      <td>-31.609576</td>\n",
       "      <td>-26.358598</td>\n",
       "      <td>-0.018144</td>\n",
       "      <td>0.000000</td>\n",
       "    </tr>\n",
       "    <tr>\n",
       "      <th>25%</th>\n",
       "      <td>-6.298551</td>\n",
       "      <td>-8.267985</td>\n",
       "      <td>1.000021</td>\n",
       "      <td>26.953261</td>\n",
       "    </tr>\n",
       "    <tr>\n",
       "      <th>50%</th>\n",
       "      <td>1.153055</td>\n",
       "      <td>-4.813172</td>\n",
       "      <td>2.011479</td>\n",
       "      <td>57.085625</td>\n",
       "    </tr>\n",
       "    <tr>\n",
       "      <th>75%</th>\n",
       "      <td>8.621015</td>\n",
       "      <td>-1.332816</td>\n",
       "      <td>3.999904</td>\n",
       "      <td>107.813044</td>\n",
       "    </tr>\n",
       "    <tr>\n",
       "      <th>max</th>\n",
       "      <td>29.421755</td>\n",
       "      <td>18.734063</td>\n",
       "      <td>5.019721</td>\n",
       "      <td>137.945408</td>\n",
       "    </tr>\n",
       "  </tbody>\n",
       "</table>\n",
       "</div>"
      ],
      "text/plain": [
       "                  f0             f1             f2        product\n",
       "count  100000.000000  100000.000000  100000.000000  100000.000000\n",
       "mean        1.141296      -4.796579       2.494541      68.825000\n",
       "std         8.965932       5.119872       1.703572      45.944423\n",
       "min       -31.609576     -26.358598      -0.018144       0.000000\n",
       "25%        -6.298551      -8.267985       1.000021      26.953261\n",
       "50%         1.153055      -4.813172       2.011479      57.085625\n",
       "75%         8.621015      -1.332816       3.999904     107.813044\n",
       "max        29.421755      18.734063       5.019721     137.945408"
      ]
     },
     "metadata": {},
     "output_type": "display_data"
    },
    {
     "name": "stdout",
     "output_type": "stream",
     "text": [
      "\n",
      "Región 2\n"
     ]
    },
    {
     "data": {
      "text/html": [
       "<div>\n",
       "<style scoped>\n",
       "    .dataframe tbody tr th:only-of-type {\n",
       "        vertical-align: middle;\n",
       "    }\n",
       "\n",
       "    .dataframe tbody tr th {\n",
       "        vertical-align: top;\n",
       "    }\n",
       "\n",
       "    .dataframe thead th {\n",
       "        text-align: right;\n",
       "    }\n",
       "</style>\n",
       "<table border=\"1\" class=\"dataframe\">\n",
       "  <thead>\n",
       "    <tr style=\"text-align: right;\">\n",
       "      <th></th>\n",
       "      <th>f0</th>\n",
       "      <th>f1</th>\n",
       "      <th>f2</th>\n",
       "      <th>product</th>\n",
       "    </tr>\n",
       "  </thead>\n",
       "  <tbody>\n",
       "    <tr>\n",
       "      <th>count</th>\n",
       "      <td>100000.000000</td>\n",
       "      <td>100000.000000</td>\n",
       "      <td>100000.000000</td>\n",
       "      <td>100000.000000</td>\n",
       "    </tr>\n",
       "    <tr>\n",
       "      <th>mean</th>\n",
       "      <td>0.002023</td>\n",
       "      <td>-0.002081</td>\n",
       "      <td>2.495128</td>\n",
       "      <td>95.000000</td>\n",
       "    </tr>\n",
       "    <tr>\n",
       "      <th>std</th>\n",
       "      <td>1.732045</td>\n",
       "      <td>1.730417</td>\n",
       "      <td>3.473445</td>\n",
       "      <td>44.749921</td>\n",
       "    </tr>\n",
       "    <tr>\n",
       "      <th>min</th>\n",
       "      <td>-8.760004</td>\n",
       "      <td>-7.084020</td>\n",
       "      <td>-11.970335</td>\n",
       "      <td>0.000000</td>\n",
       "    </tr>\n",
       "    <tr>\n",
       "      <th>25%</th>\n",
       "      <td>-1.162288</td>\n",
       "      <td>-1.174820</td>\n",
       "      <td>0.130359</td>\n",
       "      <td>59.450441</td>\n",
       "    </tr>\n",
       "    <tr>\n",
       "      <th>50%</th>\n",
       "      <td>0.009424</td>\n",
       "      <td>-0.009482</td>\n",
       "      <td>2.484236</td>\n",
       "      <td>94.925613</td>\n",
       "    </tr>\n",
       "    <tr>\n",
       "      <th>75%</th>\n",
       "      <td>1.158535</td>\n",
       "      <td>1.163678</td>\n",
       "      <td>4.858794</td>\n",
       "      <td>130.595027</td>\n",
       "    </tr>\n",
       "    <tr>\n",
       "      <th>max</th>\n",
       "      <td>7.238262</td>\n",
       "      <td>7.844801</td>\n",
       "      <td>16.739402</td>\n",
       "      <td>190.029838</td>\n",
       "    </tr>\n",
       "  </tbody>\n",
       "</table>\n",
       "</div>"
      ],
      "text/plain": [
       "                  f0             f1             f2        product\n",
       "count  100000.000000  100000.000000  100000.000000  100000.000000\n",
       "mean        0.002023      -0.002081       2.495128      95.000000\n",
       "std         1.732045       1.730417       3.473445      44.749921\n",
       "min        -8.760004      -7.084020     -11.970335       0.000000\n",
       "25%        -1.162288      -1.174820       0.130359      59.450441\n",
       "50%         0.009424      -0.009482       2.484236      94.925613\n",
       "75%         1.158535       1.163678       4.858794     130.595027\n",
       "max         7.238262       7.844801      16.739402     190.029838"
      ]
     },
     "metadata": {},
     "output_type": "display_data"
    },
    {
     "name": "stdout",
     "output_type": "stream",
     "text": [
      "\n"
     ]
    }
   ],
   "source": [
    "for count, dataset in enumerate(datasets):\n",
    "    \n",
    "    print(f'Región {count}')\n",
    "    display(dataset.describe())\n",
    "    print()"
   ]
  },
  {
   "cell_type": "markdown",
   "metadata": {},
   "source": [
    "Se observa que los valores de las columnas f0, f1, y f2 pueden ser negativos y llegar hasta unas cuantas decenas. El volumen de crudo tiene valores positivos y razonables, se observa que hay locaciones con reservas nulas y la locación con mayores reservas alcanza los 190 miles de barriles. También se observa que la desviación estándar del volumen de reserva es muy similar en los tres conjuntos de datos.\n",
    "\n",
    "En promedio la región 2 tiene más reservas de petróleo, seguida de la región 0 y la región 1.\n",
    "\n",
    "La inspección inicial no presenta valores ausentes, duplicados o incongruentes. Los tipos de dato y el formato son adecuados, por lo cual se procede al desarrollo del modelo."
   ]
  },
  {
   "cell_type": "markdown",
   "metadata": {},
   "source": [
    "## Modelo Predictivo para Volumen de Reservas de Crudo\n",
    "\n",
    "En esta sección se desarrolla un modelo de aprendizaje supervisado mediante regresión lineal con el objetivo de  predecir el volumen de reservas de crudo para pozos futuros. Para evaluar la calidad del modelo aplicado en cada una de las tres regiones se calcula la Raíz del Error Cuadrático Medio (RMSE por sus siglas en inglés).\n",
    "\n",
    "Se desarrollan tres funciones para automatizar el proceso para las etapas de preparación de datos, entrenamiento-predicción y evaluación de resultados para evaluar el modelo.\n",
    "\n",
    "### Preparación de datos\n",
    "\n",
    "En primer lugar se define el objetivo como el volumen de reservas 'products', y las características como las columnas 'f0', 'f1' y 'f2'. \n",
    "\n",
    "Posteriormente se segmenta el conjunto de datos en subconjuntos de entrenamiento (75%) y validación (25%)."
   ]
  },
  {
   "cell_type": "code",
   "execution_count": 7,
   "metadata": {},
   "outputs": [],
   "source": [
    "def preprocess(dataset):\n",
    "    '''Define los objetivos y características y\n",
    "    realiza la segmentación'''\n",
    "    \n",
    "    target = dataset['product'] #objetivo\n",
    "    features = dataset[['f0', 'f1', 'f2']] #características\n",
    "    \n",
    "    features_train, features_valid, target_train, target_valid = train_test_split(\n",
    "        features, target, test_size=0.25, random_state=12345)\n",
    "    \n",
    "    return features_train, features_valid, target_train, target_valid"
   ]
  },
  {
   "cell_type": "markdown",
   "metadata": {},
   "source": [
    "### Entrenamiento y predicciones\n",
    "\n",
    "Se utiliza Regresión Lineal para entrenar el modelo y se calculan las predicciones."
   ]
  },
  {
   "cell_type": "code",
   "execution_count": 8,
   "metadata": {},
   "outputs": [],
   "source": [
    "def train_and_predict(features_train, features_valid, target_train):\n",
    "    \n",
    "    #entrenamiento del modelo de regresión lineal\n",
    "    model = LinearRegression()\n",
    "    model.fit(features_train, target_train)\n",
    "    \n",
    "    #predicciones\n",
    "    predicted_valid = model.predict(features_valid)\n",
    "\n",
    "    return predicted_valid"
   ]
  },
  {
   "cell_type": "markdown",
   "metadata": {},
   "source": [
    "### Resumen y evaluación del modelo\n",
    "\n",
    "La siguiente función calcula el promedio de las predicciones, el error cuadrático medio y la raíz del error cuadrátivo medio."
   ]
  },
  {
   "cell_type": "code",
   "execution_count": 9,
   "metadata": {},
   "outputs": [],
   "source": [
    "def mean_and_rmse(predicted_valid, target_valid):\n",
    "            \n",
    "    predicted_mean = predicted_valid.mean() #promedio de las predicciones\n",
    "    \n",
    "    mse = mean_squared_error(target_valid, predicted_valid) #error cuadrático medio\n",
    "    \n",
    "    rmse = mse**(1/2) #raíz del error cuadrático medio\n",
    "    \n",
    "    return predicted_mean, rmse"
   ]
  },
  {
   "cell_type": "markdown",
   "metadata": {},
   "source": [
    "### Volumen Estimado por Regiones.\n",
    "\n",
    "En esta subsección se implementan las funciones definidas anteriormente a cada una de las tres regiones.\n",
    "\n",
    "Para cada region se realiza la segmentación, entrenamiento y predicciones. Los objetivos y las predicciones del conjunto de validación se almacenan en 'targets' y 'predictions'."
   ]
  },
  {
   "cell_type": "code",
   "execution_count": 10,
   "metadata": {},
   "outputs": [],
   "source": [
    "#datasets vacío para almacenar las predicciones y objetivos\n",
    "predictions_and_targets=pd.DataFrame()\n",
    "\n",
    "#dataset para almacenar el promedio de las predicciones y el rmse\n",
    "summary= pd.DataFrame(columns=['Mean Predicted Volume', 'RMSE'], index=['Region 0', 'Region 1', 'Region 2']) \n",
    "\n",
    "for count, dataset in enumerate(datasets):\n",
    "    \n",
    "    #segmentación\n",
    "    features_train, features_valid, target_train, target_valid = preprocess(dataset)\n",
    "     \n",
    "    #entrenamiento y predicciones\n",
    "    predicted_valid = train_and_predict(features_train, features_valid, target_train) \n",
    "\n",
    "    #cálculo de métricas\n",
    "    predicted_mean, rmse = mean_and_rmse(predicted_valid, target_valid)\n",
    "    \n",
    "    predictions_and_targets['target'+str(count)]= target_valid #almacena los objetivos del conjunto de validación\n",
    "    predictions_and_targets['prediction'+str(count)]= predicted_valid #almacena las predicciones\n",
    "\n",
    "    #almaccena la media y el rmse\n",
    "    summary.iloc[count][0] = predicted_mean\n",
    "    summary.iloc[count][1] = rmse"
   ]
  },
  {
   "cell_type": "code",
   "execution_count": 11,
   "metadata": {},
   "outputs": [
    {
     "data": {
      "text/html": [
       "<div>\n",
       "<style scoped>\n",
       "    .dataframe tbody tr th:only-of-type {\n",
       "        vertical-align: middle;\n",
       "    }\n",
       "\n",
       "    .dataframe tbody tr th {\n",
       "        vertical-align: top;\n",
       "    }\n",
       "\n",
       "    .dataframe thead th {\n",
       "        text-align: right;\n",
       "    }\n",
       "</style>\n",
       "<table border=\"1\" class=\"dataframe\">\n",
       "  <thead>\n",
       "    <tr style=\"text-align: right;\">\n",
       "      <th></th>\n",
       "      <th>Mean Predicted Volume</th>\n",
       "      <th>RMSE</th>\n",
       "    </tr>\n",
       "  </thead>\n",
       "  <tbody>\n",
       "    <tr>\n",
       "      <th>Region 0</th>\n",
       "      <td>92.5926</td>\n",
       "      <td>37.5794</td>\n",
       "    </tr>\n",
       "    <tr>\n",
       "      <th>Region 1</th>\n",
       "      <td>68.7285</td>\n",
       "      <td>0.893099</td>\n",
       "    </tr>\n",
       "    <tr>\n",
       "      <th>Region 2</th>\n",
       "      <td>94.965</td>\n",
       "      <td>40.0297</td>\n",
       "    </tr>\n",
       "  </tbody>\n",
       "</table>\n",
       "</div>"
      ],
      "text/plain": [
       "         Mean Predicted Volume      RMSE\n",
       "Region 0               92.5926   37.5794\n",
       "Region 1               68.7285  0.893099\n",
       "Region 2                94.965   40.0297"
      ]
     },
     "execution_count": 11,
     "metadata": {},
     "output_type": "execute_result"
    }
   ],
   "source": [
    "summary"
   ]
  },
  {
   "cell_type": "markdown",
   "metadata": {},
   "source": [
    "Estos resultados son consistentes con los valores promedio calculados la sección de visualización inicial. Los volumenes estimados promedio de las regiones 1 y 2 son mayores al volumen estimado promedio de la región 1. Sin embargo el error cuadrático medio de estas regiones también es mucho mayor, lo cual indica menor certeza en las predicciones del modelo para estas regiones. \n",
    "\n",
    "\n",
    "Dado que el presupuesto para el desarrollo de 200 pozos nuevos es de 100 millones de dólares, cada pozo en promedio requiere una inversión de 500, 000 dólares. Por lo tanto se requiere que en promedio cada pozo genere un ingreso mayor a esta cantidad. \n",
    "\n",
    "Considerando que cada unidad de volumen genera 4,500 dólares en ingresos, en promedio cada pozo debe producir más de 111.111 unidades de volumen para generar ganancias."
   ]
  },
  {
   "cell_type": "code",
   "execution_count": 12,
   "metadata": {},
   "outputs": [
    {
     "name": "stdout",
     "output_type": "stream",
     "text": [
      "111.11111111111111\n"
     ]
    }
   ],
   "source": [
    "total_budget= 100000000 #presupuesto total en dólares\n",
    "\n",
    "income_per_unit = 4500 #ingreso por 1000 barriles en dólares\n",
    "\n",
    "locations= 200 #número de pozos\n",
    "\n",
    "minimum_volume = (total_budget / locations ) / income_per_unit\n",
    "\n",
    "print(minimum_volume)"
   ]
  },
  {
   "cell_type": "markdown",
   "metadata": {},
   "source": [
    "Los volumenes estimados promedio para las tres regiones son menores al volumen mínimo que debe producir un pozo para generar ganancias (111.1 unidades). Por lo cual se deberán elegir locaciones que superen este promedio.\n",
    "\n",
    "Esto se puede observar en las siguientes gráficas."
   ]
  },
  {
   "cell_type": "code",
   "execution_count": 13,
   "metadata": {},
   "outputs": [
    {
     "data": {
      "image/png": "[encoded data removed]",
      "text/plain": [
       "<Figure size 1152x288 with 3 Axes>"
      ]
     },
     "metadata": {
      "needs_background": "light"
     },
     "output_type": "display_data"
    }
   ],
   "source": [
    "fig, (ax0, ax1, ax2) = plt.subplots(ncols=3,sharex=True, sharey=True, tight_layout=True, figsize=(16,4))\n",
    "\n",
    "fig.suptitle('Reserves Volumes Distributions', fontsize='xx-large')\n",
    "\n",
    "n_bins=100\n",
    "\n",
    "for count, ax in enumerate(fig.get_axes()):\n",
    "    \n",
    "    #histogramas\n",
    "    ax.hist(predictions_and_targets['prediction'+str(count)], bins=n_bins, label='estimated')\n",
    "    ax.hist(predictions_and_targets['target'+str(count)], bins=n_bins, alpha=0.6, label='objective')\n",
    "    \n",
    "    #muestra el valor mínimo de volumen para generar ganancias\n",
    "    ax.axvline(x=minimum_volume, color='k', linestyle='--')\n",
    "    \n",
    "    #nombres de ejes y leyendas\n",
    "    ax.set_title(f'Region {count}')\n",
    "    ax.set_xlabel('Volume (k barrels)')\n",
    "    ax.set_ylabel('Count')\n",
    "    ax.legend()"
   ]
  },
  {
   "cell_type": "markdown",
   "metadata": {},
   "source": [
    "Gráficas de distribuciones de volumen de reservas (estimado en azul y objetivo en  naranja) para cada región. La línea negra punteada muestra el valor mínimo de volumen a partir del cual un pozo genera ganancias.\n",
    "\n",
    "Lo primero que se puede observar es la diferencia notable entre las distribuciones de las regiones 0 y 2 en comparación con la región 1. Aunque todas las disribuciones objetivo son multimodales, en la región 1 los valores de volumen se centran alrededor de valores muy específicos con muy poca dispersión en cada uno. Por otro lado las distribuciones objetivo de las regiones 0 y 2, presentan mayor dispersión. Esta característica puede explicar por qué el RMSE para la región 1 es menor en comparación con las otras dos.\n",
    "\n",
    "Además las formas de estas distribuciones nos indican la importancia de usar el método de bootstrapping para realizar inferencias estadísticas sobre el volumen objetivo.\n",
    "\n",
    "Por otro lado se puede observar que el volumen mínimo para generar ganancia (111.1 miles de barriles) se encuentra arriba de la media de volumen para todas las regiones.\n",
    "\n",
    "Las regiones 0 y 2 ofrecen la ventaja de tener mayores reservas promedio, sin embargo este beneficio se ve minimizado por la baja certeza del modelo para estas regiones. Por lo tanto es imprescindible hacer un análisis riesgo-beneficio más riguroso. Esto se encuentra en las siguientes secciones.\n",
    "\n",
    "El volumen de reservas totales para cada región se puede considerar como el área bajo la curva de distribución a partir de cierto rango. "
   ]
  },
  {
   "cell_type": "markdown",
   "metadata": {},
   "source": [
    "## Proyección de ganancias\n",
    "\n",
    "Se planean desarrollar 200 pozos petroleros en alguna de las tres regiones. A continuación se desarrolla una función para calcular la ganancia total de los 200 pozos con mayor volumen estimado, para cada región. Para lo cual, primero se ordenan las predicciones y se toman los 200 datos con mayores volumenes estimados. Posteriormente se identifican los volumenes objetivo correspondientes a estos pozos.\n",
    "\n",
    "Para calcular el ingreso por región se multiplica el volumen total objetivo por el precio por unidad. Para calcular la ganancia se resta el presupuesto total del ingreso. Esto se repite para cada región."
   ]
  },
  {
   "cell_type": "code",
   "execution_count": 14,
   "metadata": {},
   "outputs": [],
   "source": [
    "def objective_profit(data):\n",
    "    '''Calcula la ganancia total objetivo de los 200 pozos con mayores volumenes estimados\n",
    "    para cada region.'''\n",
    "    \n",
    "    profits_per_region = []\n",
    "    \n",
    "    for count in range(3):\n",
    "                \n",
    "        #ordena las predicciones de forma descendiente y toma las primeras 200\n",
    "        top_predictions = data['prediction'+str(count)].sort_values(ascending=False).head(200)\n",
    "                \n",
    "        #encuentra el volumen objetivo de las predicciones\n",
    "        target_vol = data.loc[top_predictions.index]['target'+str(count)]\n",
    "        \n",
    "        #calcula el ingreso por volumen\n",
    "        objective_incomes = target_vol*income_per_unit\n",
    "\n",
    "        #calcula el ingreso total\n",
    "        total_income = objective_incomes.sum()\n",
    "\n",
    "        #calcula la ganancia restando el presupuesto total al ingreso total\n",
    "        profit = round(total_income - total_budget,0)\n",
    "        \n",
    "        profits_per_region.append(profit)\n",
    "        \n",
    "    return profits_per_region"
   ]
  },
  {
   "cell_type": "markdown",
   "metadata": {},
   "source": [
    "## Análisis de riesgos \n",
    "\n",
    "Para el análisis de riesgos se realiza el méodo de bootstrapping con reemplazo para seleccionar 1000 submuestras del conjunto de datos de validación. Posteriormente se calcula la proyección de ganancias para cada región con la ayuda de la función anterior.\n",
    "\n",
    "Se consideran submuestras con 500 pozos."
   ]
  },
  {
   "cell_type": "code",
   "execution_count": 15,
   "metadata": {},
   "outputs": [],
   "source": [
    "state = np.random.RandomState(12345)\n",
    "\n",
    "profits = pd.DataFrame(columns=['Region 0', 'Region 1', 'Region 2'])\n",
    "\n",
    "for i in range(1000):\n",
    "    #se toma una muestra de 500 pozos\n",
    "    results_subsample =  predictions_and_targets.sample(n=500, replace=True, random_state=state)\n",
    "    \n",
    "    profits.loc[len(profits)] = objective_profit(results_subsample)"
   ]
  },
  {
   "cell_type": "markdown",
   "metadata": {},
   "source": [
    "Una vez realizado el cálculo de ganacias potenciales para las tres regiones se procede a calcular el promedio de ganancias, el intervalo de confianza de 95%,  y el riesgo de pérdidas para cada región. \n",
    "\n",
    "Para el cálculo de riesgo se obtiene el porcentaje de submuestras que tuvieron ganancias menores o iguales a cero."
   ]
  },
  {
   "cell_type": "code",
   "execution_count": 16,
   "metadata": {},
   "outputs": [
    {
     "data": {
      "text/html": [
       "<div>\n",
       "<style scoped>\n",
       "    .dataframe tbody tr th:only-of-type {\n",
       "        vertical-align: middle;\n",
       "    }\n",
       "\n",
       "    .dataframe tbody tr th {\n",
       "        vertical-align: top;\n",
       "    }\n",
       "\n",
       "    .dataframe thead th {\n",
       "        text-align: right;\n",
       "    }\n",
       "</style>\n",
       "<table border=\"1\" class=\"dataframe\">\n",
       "  <thead>\n",
       "    <tr style=\"text-align: right;\">\n",
       "      <th></th>\n",
       "      <th>Mean Proyected Profit (M usd dollars)</th>\n",
       "      <th>Lower</th>\n",
       "      <th>Upper</th>\n",
       "      <th>Risk of Loss (%)</th>\n",
       "    </tr>\n",
       "  </thead>\n",
       "  <tbody>\n",
       "    <tr>\n",
       "      <th>Region 0</th>\n",
       "      <td>6.00735e+06</td>\n",
       "      <td>129483</td>\n",
       "      <td>1.23116e+07</td>\n",
       "      <td>2</td>\n",
       "    </tr>\n",
       "    <tr>\n",
       "      <th>Region 1</th>\n",
       "      <td>6.65241e+06</td>\n",
       "      <td>1.57989e+06</td>\n",
       "      <td>1.19764e+07</td>\n",
       "      <td>0.3</td>\n",
       "    </tr>\n",
       "    <tr>\n",
       "      <th>Region 2</th>\n",
       "      <td>6.1556e+06</td>\n",
       "      <td>-122185</td>\n",
       "      <td>1.23064e+07</td>\n",
       "      <td>3</td>\n",
       "    </tr>\n",
       "  </tbody>\n",
       "</table>\n",
       "</div>"
      ],
      "text/plain": [
       "         Mean Proyected Profit (M usd dollars)        Lower        Upper  \\\n",
       "Region 0                           6.00735e+06       129483  1.23116e+07   \n",
       "Region 1                           6.65241e+06  1.57989e+06  1.19764e+07   \n",
       "Region 2                            6.1556e+06      -122185  1.23064e+07   \n",
       "\n",
       "         Risk of Loss (%)  \n",
       "Region 0                2  \n",
       "Region 1              0.3  \n",
       "Region 2                3  "
      ]
     },
     "execution_count": 16,
     "metadata": {},
     "output_type": "execute_result"
    }
   ],
   "source": [
    "df = pd.DataFrame(columns=['Mean Proyected Profit (M usd dollars)', 'Lower', 'Upper', 'Risk of Loss (%)'],\n",
    "                  index=['Region 0', 'Region 1', 'Region 2'])\n",
    "\n",
    "for column in profits.columns:\n",
    "    data= profits[column]\n",
    "    \n",
    "    #se calcula la ganancia promedio y se guarda\n",
    "    mean = data.mean()\n",
    "    df.loc[column][0] = mean \n",
    "    \n",
    "    #se calcula el intervalo de confianza y se guarda\n",
    "    lower = data.quantile(0.025)\n",
    "    upper = data.quantile(0.975)\n",
    "    \n",
    "    df.loc[column][1] = lower\n",
    "    df.loc[column][2] = upper\n",
    "    \n",
    "    #se calcula el riesgo y se guarda\n",
    "    risk= len(data[data.le(0)]) / len(data) *100\n",
    "    df.loc[column][3] = risk\n",
    "    \n",
    "df"
   ]
  },
  {
   "cell_type": "markdown",
   "metadata": {},
   "source": [
    "La región 1 muestra el mayores ganancias promedio y menor riesgo de pérdidas, por lo tanto se sugiere invertir ahí. Esto también se puede visualizar en las siguientes gráficas."
   ]
  },
  {
   "cell_type": "code",
   "execution_count": 17,
   "metadata": {},
   "outputs": [
    {
     "data": {
      "image/png": "[encoded data removed]",
      "text/plain": [
       "<Figure size 1152x288 with 3 Axes>"
      ]
     },
     "metadata": {
      "needs_background": "light"
     },
     "output_type": "display_data"
    }
   ],
   "source": [
    "fig, (ax0, ax1, ax2) = plt.subplots(ncols=3,sharex=True, sharey=True, tight_layout=True, figsize=(16,4))\n",
    "\n",
    "fig.suptitle('Profits Distributions', fontsize='xx-large')\n",
    "\n",
    "n_bins=100\n",
    "\n",
    "for count, ax in enumerate(fig.get_axes()):\n",
    "    \n",
    "    #histogramas\n",
    "    ax.hist(profits.iloc[:,count], bins=n_bins)\n",
    "    \n",
    "    #muestra la zona de pérdidas e intervalo de confianza\n",
    "    ax.axvspan(-4999999, 0, alpha=0.5, color='r')\n",
    "    \n",
    "    ax.axvspan(df.iloc[count][1], df.iloc[count][2], alpha=0.3, color='b')\n",
    "    \n",
    "    \n",
    "    #muestra las ganancias promedio\n",
    "    ax.axvline(x=df.iloc[count][0] , color='b', linewidth=2)\n",
    "\n",
    "    \n",
    "    #nombres de ejes y leyendas\n",
    "    ax.set_title(f'Region {count}')\n",
    "    ax.set_xlabel('Profit (M $ usd)')\n"
   ]
  },
  {
   "cell_type": "markdown",
   "metadata": {},
   "source": [
    "Gráficas de distribución de ganancias para cada región, la línea azul muestra la ganancia media, la zona en rojo muestra el área de la distribución donde hay pérdidas, y la zona azul muestra el intervalo de confianza del 95%. \n",
    "\n",
    "En la región 2, el intervalo de certeza y la zona de pérdida se traslapan, lo cual quiere decir que existe riesgo de que nuestras ganancias reales sean nulas.\n",
    "\n",
    "Por otro lado para la Región 0, el intervalo de confianza y la zona de pérdidas son extremadamente cercanos, esto minimiza el riesgo, sin embargo se observa que para la región 1 estas zonas se alejan más. Por lo tanto se sugiere invertir en la región 1."
   ]
  },
  {
   "cell_type": "markdown",
   "metadata": {},
   "source": [
    "## Conclusiones\n",
    "\n",
    "Se desarrollaron funciones para la segmentación, entrenamiento, predicciones y evaluación de calidad del modelo y se aplicaron a las tres regiones de estudio. Se muestran los volumenes promedio estimados y el RMSE del modelo para cada región."
   ]
  },
  {
   "cell_type": "code",
   "execution_count": 18,
   "metadata": {},
   "outputs": [
    {
     "data": {
      "text/html": [
       "<div>\n",
       "<style scoped>\n",
       "    .dataframe tbody tr th:only-of-type {\n",
       "        vertical-align: middle;\n",
       "    }\n",
       "\n",
       "    .dataframe tbody tr th {\n",
       "        vertical-align: top;\n",
       "    }\n",
       "\n",
       "    .dataframe thead th {\n",
       "        text-align: right;\n",
       "    }\n",
       "</style>\n",
       "<table border=\"1\" class=\"dataframe\">\n",
       "  <thead>\n",
       "    <tr style=\"text-align: right;\">\n",
       "      <th></th>\n",
       "      <th>Mean Predicted Volume</th>\n",
       "      <th>RMSE</th>\n",
       "    </tr>\n",
       "  </thead>\n",
       "  <tbody>\n",
       "    <tr>\n",
       "      <th>Region 0</th>\n",
       "      <td>92.5926</td>\n",
       "      <td>37.5794</td>\n",
       "    </tr>\n",
       "    <tr>\n",
       "      <th>Region 1</th>\n",
       "      <td>68.7285</td>\n",
       "      <td>0.893099</td>\n",
       "    </tr>\n",
       "    <tr>\n",
       "      <th>Region 2</th>\n",
       "      <td>94.965</td>\n",
       "      <td>40.0297</td>\n",
       "    </tr>\n",
       "  </tbody>\n",
       "</table>\n",
       "</div>"
      ],
      "text/plain": [
       "         Mean Predicted Volume      RMSE\n",
       "Region 0               92.5926   37.5794\n",
       "Region 1               68.7285  0.893099\n",
       "Region 2                94.965   40.0297"
      ]
     },
     "execution_count": 18,
     "metadata": {},
     "output_type": "execute_result"
    }
   ],
   "source": [
    "summary"
   ]
  },
  {
   "cell_type": "markdown",
   "metadata": {},
   "source": [
    "Estos resultados son consistentes con los valores promedio calculados la sección de visualización inicial. Los volumenes estimados promedio de las regiones 1 y 2 son mayores al volumen estimado promedio de la región 1. Sin embargo el error cuadrático medio de estas regiones también es mucho mayor, lo cual indica menor certeza en las predicciones del modelo para estas regiones.\n",
    "\n",
    "Posteriormente se grafican las distribuciones de volumenes estimados y objetivo para cada región, de estas gráficas se observa que todas las disribuciones objetivo son multimodales. En la región 1 los valores de volumen se centran alrededor de valores muy específicos con muy poca dispersión en cada uno. Por otro lado las distribuciones objetivo de las regiones 0 y 2, presentan mayor dispersión. Esta característica puede explicar por qué el RMSE para la región 1 es menor en comparación con las otras dos.\n",
    "\n",
    "Además las formas de estas distribuciones nos indican la importancia de usar el método de bootstrapping para realizar inferencias estadísticas sobre el volumen objetivo.\n",
    "\n",
    "Por otro lado se puede observar que el volumen mínimo para generar ganancia (111.1 miles de barriles) se encuentra arriba de la media de volumen para todas las regiones.\n",
    "\n",
    "Las regiones 0 y 2 ofrecen la ventaja de tener mayores reservas promedio, sin embargo este beneficio se ve minimizado por la baja certeza del modelo para estas regiones. \n",
    "\n",
    "Una vez calculados los volumenes, se define una función para calcular la ganancia promedio de los 200 pozos con mayores volumenes estimados. Posteriormente se aplica el método de bootstrap para tomar 1000 muestras de 500 pozos y se aplica la función anteriormente mencionada. Después se procede a calcular el promedio de ganancias, el intervalo de confianza de 95%, y el riesgo de pérdidas para cada región. Los resultados se muestran a continuación."
   ]
  },
  {
   "cell_type": "code",
   "execution_count": 19,
   "metadata": {},
   "outputs": [
    {
     "data": {
      "text/html": [
       "<div>\n",
       "<style scoped>\n",
       "    .dataframe tbody tr th:only-of-type {\n",
       "        vertical-align: middle;\n",
       "    }\n",
       "\n",
       "    .dataframe tbody tr th {\n",
       "        vertical-align: top;\n",
       "    }\n",
       "\n",
       "    .dataframe thead th {\n",
       "        text-align: right;\n",
       "    }\n",
       "</style>\n",
       "<table border=\"1\" class=\"dataframe\">\n",
       "  <thead>\n",
       "    <tr style=\"text-align: right;\">\n",
       "      <th></th>\n",
       "      <th>Mean Proyected Profit (M usd dollars)</th>\n",
       "      <th>Lower</th>\n",
       "      <th>Upper</th>\n",
       "      <th>Risk of Loss (%)</th>\n",
       "    </tr>\n",
       "  </thead>\n",
       "  <tbody>\n",
       "    <tr>\n",
       "      <th>Region 0</th>\n",
       "      <td>6.00735e+06</td>\n",
       "      <td>129483</td>\n",
       "      <td>1.23116e+07</td>\n",
       "      <td>2</td>\n",
       "    </tr>\n",
       "    <tr>\n",
       "      <th>Region 1</th>\n",
       "      <td>6.65241e+06</td>\n",
       "      <td>1.57989e+06</td>\n",
       "      <td>1.19764e+07</td>\n",
       "      <td>0.3</td>\n",
       "    </tr>\n",
       "    <tr>\n",
       "      <th>Region 2</th>\n",
       "      <td>6.1556e+06</td>\n",
       "      <td>-122185</td>\n",
       "      <td>1.23064e+07</td>\n",
       "      <td>3</td>\n",
       "    </tr>\n",
       "  </tbody>\n",
       "</table>\n",
       "</div>"
      ],
      "text/plain": [
       "         Mean Proyected Profit (M usd dollars)        Lower        Upper  \\\n",
       "Region 0                           6.00735e+06       129483  1.23116e+07   \n",
       "Region 1                           6.65241e+06  1.57989e+06  1.19764e+07   \n",
       "Region 2                            6.1556e+06      -122185  1.23064e+07   \n",
       "\n",
       "         Risk of Loss (%)  \n",
       "Region 0                2  \n",
       "Region 1              0.3  \n",
       "Region 2                3  "
      ]
     },
     "execution_count": 19,
     "metadata": {},
     "output_type": "execute_result"
    }
   ],
   "source": [
    "df"
   ]
  },
  {
   "cell_type": "markdown",
   "metadata": {},
   "source": [
    "La región con mayores ganancias proyectadas y menor riesgo de pérdidas es la región 1. Debido a la precisión del modelo en esta región se tiene mayor certeza en los resultados, por lo cual el volumen de reservas real es más parecido a las estimaciones.\n",
    "\n",
    "Esto se puede notar con mayor claridad en las gráficas de distribución de ganancias, donde se observa que los valores dentro del intervalo de certeza son positivos, es decir, no hay pérdidas.\n",
    "\n",
    "Por lo tanto se sugiere invertir en la Región 1. "
   ]
  }
 ],
 "metadata": {
  "kernelspec": {
   "display_name": "Python 3",
   "language": "python",
   "name": "python3"
  },
  "language_info": {
   "codemirror_mode": {
    "name": "ipython",
    "version": 3
   },
   "file_extension": ".py",
   "mimetype": "text/x-python",
   "name": "python",
   "nbconvert_exporter": "python",
   "pygments_lexer": "ipython3",
   "version": "3.8.5"
  }
 },
 "nbformat": 4,
 "nbformat_minor": 4
}
